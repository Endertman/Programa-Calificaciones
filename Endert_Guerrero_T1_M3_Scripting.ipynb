{
 "cells": [
  {
   "cell_type": "markdown",
   "metadata": {},
   "source": [
    "Endert Guerrero IPE 100108868-3\n",
    "\n",
    "Módulo: 3 \n",
    "\n",
    "Asignatura: Scripting\n",
    "\n",
    "RA: Aplica estructuras de datos complejos, utilizando listas, tuplas y diccionarios, en la manipulacion de datos.\n",
    "\n",
    "Docente Online: Gonzalo Esteban Cárdenas Rubio"
   ]
  },
  {
   "cell_type": "markdown",
   "metadata": {},
   "source": [
    "## Librerias"
   ]
  },
  {
   "cell_type": "code",
   "execution_count": 3,
   "metadata": {},
   "outputs": [],
   "source": [
    "import math"
   ]
  },
  {
   "cell_type": "markdown",
   "metadata": {},
   "source": [
    "# ítem 1 "
   ]
  },
  {
   "cell_type": "markdown",
   "metadata": {},
   "source": [
    "## Función \"suma()\""
   ]
  },
  {
   "cell_type": "code",
   "execution_count": 4,
   "metadata": {},
   "outputs": [
    {
     "name": "stdout",
     "output_type": "stream",
     "text": [
      "la suma es:  143.55\n"
     ]
    }
   ],
   "source": [
    "def suma(a,b,c):\n",
    "    resultado=a+b+c\n",
    "    print(\"la suma es: \",resultado)\n",
    "    \n",
    "tp = 55, 55.22, 33.33\n",
    "suma(*tp)"
   ]
  },
  {
   "cell_type": "markdown",
   "metadata": {},
   "source": [
    "La función \"suma\" toma tres parámetros, 'a', 'b' y 'c', y calcula la suma de estos haciendo uso de una tupla llamada 'tp' para almacenar los valores. \n",
    " \n",
    "\n",
    "Para pasar los valores almacenados en la tupla 'tp' como datos de la función \"suma\", se utiliza el operador de desempaquetado (*), este permite que los elementos de la tupla se descompongan en tres argumentos individuales, el resultado de la suma se almacena en la variable 'resultado' la cual se muestra en pantalla más adelante, es importante mencionar que las tuplas son estructuras de datos inmutables en Python, lo que significa que una vez creadas, no se pueden modificar sus elementos. \n",
    " "
   ]
  },
  {
   "cell_type": "markdown",
   "metadata": {},
   "source": [
    "## Función \"saluda()\""
   ]
  },
  {
   "cell_type": "code",
   "execution_count": 5,
   "metadata": {},
   "outputs": [
    {
     "name": "stdout",
     "output_type": "stream",
     "text": [
      "Hola Juan\n",
      "Tienes: 20\n",
      "eres del sexo Masculino\n",
      "Eres de nacionalidad CL\n"
     ]
    }
   ],
   "source": [
    "def saluda(nombre, edad, sexo, nacionalidad):\n",
    "    print(\"Hola\",nombre)\n",
    "    print(\"Tienes:\", edad)\n",
    "    print(\"eres del sexo\", sexo)\n",
    "    print(\"Eres de nacionalidad\", nacionalidad)\n",
    "    \n",
    "dicc = {\"nombre\":\"Juan\", \"edad\":20, \"sexo\":\"Masculino\", \"nacionalidad\":\"CL\"}\n",
    "saluda(**dicc)"
   ]
  },
  {
   "cell_type": "markdown",
   "metadata": {},
   "source": [
    "La función \"saluda\" toma cuatro parámetros: 'nombre', 'edad', 'sexo' y 'nacionalidad', y muestra en pantalla un mensaje de saludo con los datos proporcionados. \n",
    "\n",
    "\n",
    "El diccionario \"dicc\" contiene información sobre la persona, al pasar los valores de \"dicc\" como argumentos de la función \"saluda\", se utiliza el operador de desempaquetado de diccionario (**). Esto permite que los valores se distribuyan de forma correcta, el desempaquetado de diccionarios es una forma eficiente de pasar múltiples valores a una función utilizando sus claves como nombres de parámetros. Esto facilita la reutilización de la función con diferentes conjuntos de datos, ya que solo es necesario cambiar los valores del diccionario sin modificar la llamada a la función en sí. \n"
   ]
  },
  {
   "cell_type": "markdown",
   "metadata": {},
   "source": [
    "## Funcion \"invierte()\""
   ]
  },
  {
   "cell_type": "code",
   "execution_count": 6,
   "metadata": {},
   "outputs": [
    {
     "name": "stdout",
     "output_type": "stream",
     "text": [
      "['IPP', 'Python', 'Scripting', 'Curso', 'Material']\n",
      "['Material', 'Curso', 'Scripting', 'Python', 'IPP']\n"
     ]
    }
   ],
   "source": [
    "def invierte(lst):\n",
    "    print(lst)\n",
    "    lst_rev = lst[::-1]\n",
    "    print(lst_rev)\n",
    "    \n",
    "lst = [\"IPP\", \"Python\", \"Scripting\", \"Curso\", \"Material\"]\n",
    "invierte(lst)"
   ]
  },
  {
   "cell_type": "markdown",
   "metadata": {},
   "source": [
    "La función \"invierte\" toma una lista como argumento, y su objetivo es imprimir la lista original y luego imprimir la misma lista, pero en orden inverso. en el ejemplo proporcionado, Cuando se llama a la función \"invierte\" con la lista \"lst\", la función imprime la lista original: \n",
    " \n",
    "['IPP', 'Python', 'Scripting', 'Curso', 'Material'] \n",
    "\n",
    "Luego, la función crea una nueva lista llamada \"lst_rev\" que contiene los mismos elementos de la lista original, pero en orden inverso. Para lograr esto, utiliza la sintaxis de rebanado (slicing) con un paso de -1, que invierte el orden de los elementos en la lista: \n",
    " \n",
    "['Material', 'Curso', 'Scripting', 'Python', 'IPP'] \n",
    "\n",
    "La función \"invierte\" imprime una lista dada y luego imprime la misma lista en orden inverso, lo que puede ser útil en diferentes situaciones cuando se requiere manipular el orden de los elementos en una lista. \n",
    " "
   ]
  },
  {
   "cell_type": "markdown",
   "metadata": {},
   "source": [
    "## Función \"completa\""
   ]
  },
  {
   "cell_type": "code",
   "execution_count": 7,
   "metadata": {},
   "outputs": [
    {
     "name": "stdout",
     "output_type": "stream",
     "text": [
      "{'bookC': 3, 'bookD': 4, 'bookE': 5, 'bookA': 1, 'bookB': 2}\n"
     ]
    }
   ],
   "source": [
    "def completa(dct1,dct2):\n",
    "    dct2.update(dct1)\n",
    "    print(dct2)\n",
    "\n",
    "dict1 = {\"bookA\" : 1, \"bookB\" : 2, \"bookC\" : 3}\n",
    "dict2 = {\"bookC\" : 2, \"bookD\" : 4, \"bookE\" : 5}\n",
    "completa(dict1,dict2)"
   ]
  },
  {
   "cell_type": "markdown",
   "metadata": {},
   "source": [
    "En la función \"completa\" se utilizan dos diccionarios como estructuras de datos pares (clave-valor), \"dct1\" y \"dct2\", también se utiliza el método \"update()\" de los diccionarios para combinar los elementos de \"dct1\" con el diccionario \"dct2\". El método \"update()\" actualiza el diccionario \"dct2\", sobrescribiendo o agregando las claves y valores de \"dct1\". Es decir, el diccionario \"dct2\" se actualiza para incluir los elementos de \"dct1\". Si coinciden claves en ambos diccionarios los valores del diccionario \"dct2\" se reemplazan por los valores de \"dct1\". En conclusión, la función \"completa\" utiliza diccionarios como estructura de datos para combinar y actualizar sus elementos de acuerdo con los argumentos proporcionados. \n"
   ]
  },
  {
   "cell_type": "markdown",
   "metadata": {},
   "source": [
    "\n",
    "# Ítem 2 "
   ]
  },
  {
   "cell_type": "markdown",
   "metadata": {},
   "source": [
    "## Script 1"
   ]
  },
  {
   "cell_type": "code",
   "execution_count": 8,
   "metadata": {},
   "outputs": [
    {
     "name": "stdout",
     "output_type": "stream",
     "text": [
      "[1, 2, 3, 4]\n",
      "<class 'list'>\n",
      "(1, 2, 3, 4)\n",
      "<class 'tuple'>\n"
     ]
    }
   ],
   "source": [
    "mylist = list((1,2,3,4))\n",
    "print(mylist)\n",
    "print(type(mylist))\n",
    "\n",
    "mytuple = tuple(mylist)\n",
    "print(mytuple)\n",
    "print(type(mytuple))"
   ]
  },
  {
   "cell_type": "markdown",
   "metadata": {},
   "source": [
    "En este script, se presentan una lista y una tupla. Las listas son modificables después de su creación, mientras que las tuplas una vez creadas, no pueden modificarse.  \n",
    "\n",
    "1. Variables de entrada: \n",
    "\n",
    "    - La entrada inicial es una lista la cual más adelante es convertida a tupla en la variable \"mytuple\". \n",
    "\n",
    "2. Transformaciones o conversiones: \n",
    "\n",
    "    - La lista \"mylist\" se convierte en una tupla utilizando la función tuple() y se almacena en la variable mytuple. \n",
    "\n",
    "\n",
    "3. Variables de salida: \n",
    "\n",
    "    - El script imprime tanto \"mylist\" como su tipo utilizando print(). Luego, imprime \"mytuple\" y su tipo también con print().  \n",
    "\n",
    "El script tiene como objetivo ilustrar cómo convertir una lista en una tupla, esta misma conversión se podría hacer de forma contraria usando list(). "
   ]
  },
  {
   "cell_type": "markdown",
   "metadata": {},
   "source": [
    "## Script 2"
   ]
  },
  {
   "cell_type": "code",
   "execution_count": 9,
   "metadata": {},
   "outputs": [
    {
     "name": "stdout",
     "output_type": "stream",
     "text": [
      "{'nombre': 'Juan', 'edad': '30', 'direccion': 'Valparaiso'}\n",
      "<class 'dict'>\n"
     ]
    }
   ],
   "source": [
    "lista1 = list((\"nombre\", \"edad\", \"dirección\"))\n",
    "lista2 = list((\"Juan\", \"30\", \"Valparaíso\"))\n",
    "clave_tupla = tuple(lista1)\n",
    "valor_tupla = tuple(lista2)\n",
    "\n",
    "dicc = dict(zip(clave_tupla, valor_tupla))\n",
    "print(dicc)\n",
    "print(type(dicc))"
   ]
  },
  {
   "cell_type": "markdown",
   "metadata": {},
   "source": [
    "1. Variables de entrada: \n",
    "\n",
    "   - lista1: Es una lista que contiene las claves para crear un diccionario. En este caso, contiene los elementos \"nombre\", \"edad\" y \"dirección\". \n",
    "\n",
    "   - lista2: Es una lista que contiene los valores pares de las claves para crear un diccionario. En este caso, contiene los elementos \"Juan\", \"30\" y \"Valparaíso\". \n",
    "   \n",
    "2. Transformaciones o conversiones: \n",
    "\n",
    "   - Se convierten las listas \"lista1\" y \"lista2\" en tuplas utilizando la función incorporada tuple(). Esto garantiza que las claves y los valores sean inmutables y, por lo tanto, sean adecuados para utilizarlos como elementos de un diccionario. Las nuevas variables creadas son: \n",
    "\n",
    "     - clave_tupla: Una tupla que contiene las claves de la lista1, es decir, (\"nombre\", \"edad\", \"dirección\"). \n",
    "\n",
    "     - valor_tupla: Una tupla que contiene los valores pares, es decir, (\"Juan\", \"30\", \"Valparaiso\"). \n",
    "\n",
    "\n",
    "3. Variables de salida: \n",
    "\n",
    "   - dicc: Es un diccionario que se crea utilizando las tuplas \"clave_tupla\" y \"valor_tupla\" con la función zip(). La función zip() combina ambas tuplas en pares clave-valor, que luego se utilizan para crear el diccionario. Luego se imprime el contenido del diccionario \"dicc\". También se imprime el tipo de la variable \"dicc\" utilizando la función type(). Esto muestra el tipo de dato de \"dicc\", que será 'dict' \n",
    "\n",
    "El script realiza las transformaciones necesarias para crear un diccionario a partir de las listas \"lista1\" y \"lista2\", y luego imprime el diccionario resultante junto con su tipo. La estructura del diccionario final contiene las claves \"nombre\", \"edad\" y \"dirección\", con los valores correspondientes \"Juan\", \"30\" y \"Valparaíso\", respectivamente. "
   ]
  },
  {
   "cell_type": "markdown",
   "metadata": {},
   "source": [
    "# Ítem 3"
   ]
  },
  {
   "cell_type": "markdown",
   "metadata": {},
   "source": [
    "Importamos las librerías correspondientes para poder ejecutar el código correctamente."
   ]
  },
  {
   "cell_type": "code",
   "execution_count": 10,
   "metadata": {},
   "outputs": [],
   "source": [
    "import math\n",
    "import pandas as pd"
   ]
  },
  {
   "cell_type": "markdown",
   "metadata": {},
   "source": [
    "Calculamos los promedios de las notas, sumamos las notas y las dividimos según la cantidad de notas que tengan los estudiantes."
   ]
  },
  {
   "cell_type": "code",
   "execution_count": 11,
   "metadata": {},
   "outputs": [],
   "source": [
    "def cal_prom(notas):\n",
    "    return sum(notas) / len(notas)"
   ]
  },
  {
   "cell_type": "markdown",
   "metadata": {},
   "source": [
    "Calculamos la varianza para cada valor x en la lista \"notas\", se resta el promedio \"prom\", y el resultado se eleva al cuadrado con (x - prom) ** 2., se agrega \"for x in notas\" para decirle al programa que los valores de \"X\" se encuentran en \"notas\", ya que tenemos 3 notas por estudiante debemos sumar los resultados de la operación anterior entre si, para finalmente dividirlos según la cantidad de notas de cada estudiante. \n",
    "\n",
    "Finalmente usaremos \"math.sqrt(var)\" que nos dará la desviación estándar como resultado. "
   ]
  },
  {
   "cell_type": "code",
   "execution_count": 12,
   "metadata": {},
   "outputs": [],
   "source": [
    "def cal_var(notas):\n",
    "    prom = cal_prom(notas)\n",
    "    var = sum([(x - prom) ** 2 for x in notas]) / len(notas)\n",
    "    return math.sqrt(var)"
   ]
  },
  {
   "cell_type": "markdown",
   "metadata": {},
   "source": [
    "A partir de ahora crearemos el área principal del código, también creare un diccionario vacío donde de alojaran los estudiantes y sus notas. "
   ]
  },
  {
   "cell_type": "code",
   "execution_count": 13,
   "metadata": {},
   "outputs": [],
   "source": [
    "def main() :\n",
    "    dicc_notas = {}"
   ]
  },
  {
   "cell_type": "markdown",
   "metadata": {},
   "source": [
    "Solicitamos al usuario ingresar, primeramente, el número de estudiantes y el número de notas que debería tener cada estudiante. "
   ]
  },
  {
   "cell_type": "code",
   "execution_count": 14,
   "metadata": {},
   "outputs": [],
   "source": [
    "num_estudiantes = int(input(\"Ingrese el número de estudiantes: \"))\n",
    "num_notas = int(input(\"Ingrese el número de notas que presentan los estudiantes: \"))"
   ]
  },
  {
   "cell_type": "markdown",
   "metadata": {},
   "source": [
    "Haciendo uso de \"range” delimitamos la cantidad de veces que se repetirá el bucle, esta cantidad estará dictada por el número de estudiantes que ingresemos, mientras que el bucle donde ingresaremos las notas se repetirá también cuantas veces hallamos delimitado al momento de colocar cuantas notas presentará cada estudiante. "
   ]
  },
  {
   "cell_type": "code",
   "execution_count": 15,
   "metadata": {},
   "outputs": [],
   "source": [
    "for i in range(num_estudiantes):\n",
    "    estudiante = input(f\"Ingrese el nombre del estudiante {i+1}: \")\n",
    "    notas = []\n",
    "    for n in range(num_notas):\n",
    "        nota = float(input(f\"Ingrese la nota {n+1} de {estudiante}: \"))\n",
    "        notas.append(nota)\n",
    "    dicc_notas[estudiante] = notas\n"
   ]
  },
  {
   "cell_type": "markdown",
   "metadata": {},
   "source": [
    "Ahora crearemos un diccionario que estará compuesto por las listas resultantes de las operaciones siguientes. "
   ]
  },
  {
   "cell_type": "code",
   "execution_count": 16,
   "metadata": {},
   "outputs": [],
   "source": [
    "resultados = {\n",
    "    \"Estudiante\": [],\n",
    "    \"Promedio\": [],\n",
    "    \"Varianza\": []\n",
    "}"
   ]
  },
  {
   "cell_type": "markdown",
   "metadata": {},
   "source": [
    "Por último calcularemos las estadísticas para cada estudiante y se agregaran los resultados al diccionario anterior. "
   ]
  },
  {
   "cell_type": "code",
   "execution_count": 17,
   "metadata": {},
   "outputs": [],
   "source": [
    "for estudiante, notas in dicc_notas.items():\n",
    "    promedio = cal_prom(notas)\n",
    "    varianza = cal_var(notas)\n",
    "    resultados[\"Estudiante\"].append(estudiante)\n",
    "    resultados[\"Promedio\"].append(promedio)\n",
    "    resultados[\"Varianza\"].append(varianza)\n"
   ]
  },
  {
   "cell_type": "markdown",
   "metadata": {},
   "source": [
    "Creamos un dataframe para poder observar de mejor manera los resultados"
   ]
  },
  {
   "cell_type": "code",
   "execution_count": 18,
   "metadata": {},
   "outputs": [
    {
     "name": "stdout",
     "output_type": "stream",
     "text": [
      "  Estudiante  Promedio  Varianza\n",
      "0     Endert       1.5       0.5\n",
      "1       Juan       1.5       0.5\n"
     ]
    }
   ],
   "source": [
    "df = pd.DataFrame(resultados)\n",
    "print(df)"
   ]
  },
  {
   "cell_type": "markdown",
   "metadata": {},
   "source": [
    "# Codigo completo"
   ]
  },
  {
   "cell_type": "code",
   "execution_count": 3,
   "metadata": {},
   "outputs": [
    {
     "name": "stdout",
     "output_type": "stream",
     "text": [
      "  Estudiante  Promedio  Varianza\n",
      "0          t       1.5       0.5\n",
      "1          y       1.5       0.5\n"
     ]
    }
   ],
   "source": [
    "import math\n",
    "import pandas as pd\n",
    "\n",
    "# Función para calcular el promedio de notas\n",
    "def cal_prom(notas):\n",
    "    return sum(notas) / len(notas)\n",
    "\n",
    "# Función para calcular la varianza de notas\n",
    "def cal_var(notas):\n",
    "    prom = cal_prom(notas)\n",
    "    var = sum([(x - prom) ** 2 for x in notas]) / len(notas)\n",
    "    return math.sqrt(var)\n",
    "\n",
    "# Creamos el area pricnipal del codigo\n",
    "\n",
    "def main():\n",
    "    # Crear un diccionario vacío para almacenar los estudiantes y sus notas\n",
    "    dicc_notas = {}\n",
    "\n",
    "    # Solicitar al usuario ingresar el numero de estudiantes y el numero de notas que deberia tener cada estudiante.\n",
    "\n",
    "    num_estudiantes = int(input(\"Ingrese el número de estudiantes: \"))\n",
    "    num_notas = int(input(\"Ingrese el número de notas que presentan los estudiantes: \"))\n",
    "\n",
    "    # El usuario ingresa los nombres y notas de los estudiantes.\n",
    "    for i in range(num_estudiantes):\n",
    "        estudiante = input(f\"Ingrese el nombre del estudiante {i+1}: \")\n",
    "        notas = []\n",
    "        for n in range(num_notas):\n",
    "            nota = float(input(f\"Ingrese la nota {n+1} de {estudiante}: \"))\n",
    "            notas.append(nota)\n",
    "        dicc_notas[estudiante] = notas\n",
    "\n",
    "    # Crear una lista con los resultados de las estadísticas de cada estudiante\n",
    "    resultados = {\n",
    "        \"Estudiante\": [],\n",
    "        \"Promedio\": [],\n",
    "        \"Varianza\": []\n",
    "    }\n",
    "\n",
    "    # Calcular las estadísticas para cada estudiante y agregar los resultados al diccionario\n",
    "    for estudiante, notas in dicc_notas.items():\n",
    "        promedio = cal_prom(notas)\n",
    "        varianza = cal_var(notas)\n",
    "        resultados[\"Estudiante\"].append(estudiante)\n",
    "        resultados[\"Promedio\"].append(promedio)\n",
    "        resultados[\"Varianza\"].append(varianza)\n",
    "\n",
    "    # Crear el DataFrame directamente desde el diccionario\n",
    "    df = pd.DataFrame(resultados)\n",
    "\n",
    "    # Imprimir el DataFrame para ver los resultados\n",
    "    print(df)\n",
    "\n",
    "if __name__ == \"__main__\":\n",
    "    main()\n"
   ]
  },
  {
   "cell_type": "markdown",
   "metadata": {},
   "source": [
    "# Extra"
   ]
  },
  {
   "cell_type": "markdown",
   "metadata": {},
   "source": [
    "Importamos las librerias correspondientes para poder ejecutar el codigo correctamente."
   ]
  },
  {
   "cell_type": "code",
   "execution_count": 20,
   "metadata": {},
   "outputs": [],
   "source": [
    "import random\n",
    "import math\n",
    "import pandas as pd"
   ]
  },
  {
   "cell_type": "markdown",
   "metadata": {},
   "source": [
    "Para este caso creare aleatoriamente lista de números float que contiene 80 elementos, donde cada elemento es una lista de 3 números flotantes redondeados a 2 decimales, generados aleatoriamente dentro del rango de 1 a 7. primeramente usamos un \"range\" con _ ya que no importa el valor de la variable y solo queremos repetir el bucle 80 veces ya que tenemos 80 estudiantes, dentro de este bucle de 80 veces tenemos otro bucle igual pero esta vez se repite 3 veces, la función de este es repetir en bucle la función \"random\" para obtener 3 notas para cada estudiante, por ultimo la función random esta diagramada de la siguiente forma, primeramente \"round\" delimitado a 1, esto nos ayuda a redondear los números aleatorios a máximo 1 decimal, mientras que random.uniform nos genera un numero flotante entre 1 y 7 incluidos ellos mismos."
   ]
  },
  {
   "cell_type": "code",
   "execution_count": 21,
   "metadata": {},
   "outputs": [],
   "source": [
    "notas = [[round(random.uniform(1, 7),1) for _ in range(3)] for _ in range(80)]"
   ]
  },
  {
   "cell_type": "markdown",
   "metadata": {},
   "source": [
    "Ahora creare una lista con los nombres de los 80 estudiantes."
   ]
  },
  {
   "cell_type": "code",
   "execution_count": 22,
   "metadata": {},
   "outputs": [],
   "source": [
    "lista_estudiantes = [\"Juan González\",\"María Rodríguez\",\"Pedro López\",\"Ana Martínez\",\"Luis García\",\"Sofía Hernández\",\"Carlos Fernández\",\"Laura Gómez\",\"Diego Torres\",\"Marta Jiménez\",\"Andrés Ruiz\",\"Valentina Ramírez\",\"José Pérez\",\"Elena Vargas\",\"Gabriel Castro\",\"Isabel Silva\",\"Fernando Ortiz\",\"Carmen Medina\",\"Ricardo Morales\",\"Lucía Guzmán\",\"Santiago Herrera\",\"Carolina Morales\",\"Emilio Núñez\",\"Beatriz Paredes\",\"Andrés Delgado\",\"Isabella Cordero\",\"Hugo Rivas\",\"Gabriela Navarro\",\"Alejandro Mendoza\",\"Natalia Torres\",\"Esteban Robles\",\"Camila Vargas\",\"David Figueroa\",\"Valeria Castro\",\"Eduardo Soto\",\"Vanessa Rojas\",\"Fabián Castro\",\"Carolina León\",\"Manuel Fuentes\",\"Renata Morales\",\"Fernando Zúñiga\",\"Carla Contreras\",\"Sebastián Navarro\",\"Romina Sánchez\",\"Mauricio Rivera\",\"Daniela Alvarado\",\"Alejandro Ramírez\",\"Lorena Herrera\",\"Simón Salazar\",\"Antonia Paredes\",\"Pablo Delgado\",\"Francisca Montoya\",\"Raúl Cortés\",\"Javiera Orellana\",\"Mario Ríos\",\"Consuelo Vidal\",\"Sergio Bravo\",\"Macarena Rojas\",\"Ignacio Miranda\",\"María José Moya\",\"Cristián Vargas\",\"Josefina Peña\",\"Marco Olivares\",\"Antonella Osorio\",\"Javier Soto\",\"Catalina Cordero\",\"Álvaro Silva\",\"Isidora Contreras\",\"Tomás Pinto\",\"Solange Escobar\",\"Matías Valenzuela\",\"Agustina Lagos\",\"Felipe Reyes\",\"Isidora Guzmán\",\"Gonzalo Campos\",\"Valentina Mardones\",\"Benjamín Araya\",\"Ignacia Orellana\",\"Cristóbal Vargas\",\"Fernanda Gutiérrez\"]"
   ]
  },
  {
   "cell_type": "markdown",
   "metadata": {},
   "source": [
    "También creare un diccionario vació donde de alojaran los resultados del script."
   ]
  },
  {
   "cell_type": "code",
   "execution_count": 23,
   "metadata": {},
   "outputs": [],
   "source": [
    "resultados = []"
   ]
  },
  {
   "cell_type": "markdown",
   "metadata": {},
   "source": [
    "Ahora creare un diccionario con los nombres de los estudiantes como clave y las notas como valores"
   ]
  },
  {
   "cell_type": "code",
   "execution_count": 24,
   "metadata": {},
   "outputs": [],
   "source": [
    "dicc_notas = dict(zip(lista_estudiantes, notas))"
   ]
  },
  {
   "cell_type": "markdown",
   "metadata": {},
   "source": [
    "Calculamos los promedios de las notas, sumamos las notas y las dividimos según la cantidad de notas que tengan los estudiantes."
   ]
  },
  {
   "cell_type": "code",
   "execution_count": 25,
   "metadata": {},
   "outputs": [],
   "source": [
    "def cal_prom(notas): \n",
    "    suma = sum(notas)\n",
    "    return suma / len(notas)"
   ]
  },
  {
   "cell_type": "markdown",
   "metadata": {},
   "source": [
    "Calculamos la varianza para cada valor x en la lista \"notas\", se resta el promedio \"prom\", y el resultado se eleva al cuadrado con (x - prom) ** 2., se agrega \"for x in notas\" para decirle al programa que los valores de \"X\" se encuentran en \"notas\", ya que tenemos 3 notas por estudiante debemos sumar los resultados de la operación anterior entre si, para finalmente dividirlos según la cantidad de notas de cada estudiante.\n",
    "Finalmente usaremos \"math.sqrt(var)\" que nos dará la desviación estándar como resultado."
   ]
  },
  {
   "cell_type": "code",
   "execution_count": 26,
   "metadata": {},
   "outputs": [],
   "source": [
    "def cal_var(notas):\n",
    "    prom = cal_prom(notas)\n",
    "    var = sum([(x - prom) ** 2 for x in notas]) / len(notas)\n",
    "    return math.sqrt(var)"
   ]
  },
  {
   "cell_type": "markdown",
   "metadata": {},
   "source": [
    "Creamos un bucle \"For\" que recorre cada estudiante en el diccionario \"dicc_notas\", calcula su promedio y varianza de notas utilizando las funciones cal_prom y cal_var, y luego agrega los resultados a la lista \"resultados\". Al final del bucle, \"resultados\" contendrá las listas resultantes de las operaciones y las agrupara, donde cada sub-lista representa a un estudiante con su nombre, promedio y varianza de notas."
   ]
  },
  {
   "cell_type": "code",
   "execution_count": 27,
   "metadata": {},
   "outputs": [],
   "source": [
    "for estudiante, notas in dicc_notas.items():\n",
    "    promedio = cal_prom(notas)\n",
    "    varianza = cal_var(notas)\n",
    "    resultados.append([estudiante, promedio, varianza])"
   ]
  },
  {
   "cell_type": "markdown",
   "metadata": {},
   "source": [
    "Creamos un dataframe para poder observar de mejor manera los resultados"
   ]
  },
  {
   "cell_type": "code",
   "execution_count": 28,
   "metadata": {},
   "outputs": [
    {
     "name": "stdout",
     "output_type": "stream",
     "text": [
      "            Estudiante  Promedio  Varianza\n",
      "0        Juan González  4.633333  0.339935\n",
      "1      María Rodríguez  3.900000  0.374166\n",
      "2          Pedro López  3.133333  1.685889\n",
      "3         Ana Martínez  4.200000  1.840290\n",
      "4          Luis García  4.833333  0.498888\n",
      "..                 ...       ...       ...\n",
      "75  Valentina Mardones  3.300000  1.219289\n",
      "76      Benjamín Araya  3.933333  1.329996\n",
      "77    Ignacia Orellana  2.666667  1.065624\n",
      "78    Cristóbal Vargas  1.833333  0.188562\n",
      "79  Fernanda Gutiérrez  2.800000  0.993311\n",
      "\n",
      "[80 rows x 3 columns]\n"
     ]
    }
   ],
   "source": [
    "df = pd.DataFrame(resultados, columns=[\"Estudiante\", \"Promedio\", \"Varianza\"])\n",
    "print(df)"
   ]
  },
  {
   "cell_type": "markdown",
   "metadata": {},
   "source": [
    "## Pasos extra\n",
    "Importamos nuestro dataframe en un archivo CSV si asi lo necesitáramos"
   ]
  },
  {
   "cell_type": "code",
   "execution_count": 29,
   "metadata": {},
   "outputs": [],
   "source": [
    "df.to_csv(\"notas.csv\")"
   ]
  },
  {
   "cell_type": "markdown",
   "metadata": {},
   "source": [
    "Ahora para mayor rapidez al momento de estudiar los datos filtraremos los estudiantes según los que tuvieron una nota mayor a 4 y los que no, luego imprimiremos los resultados"
   ]
  },
  {
   "cell_type": "code",
   "execution_count": 30,
   "metadata": {},
   "outputs": [
    {
     "name": "stdout",
     "output_type": "stream",
     "text": [
      "Estudiantes graduados\n",
      "           Estudiante  Promedio  Varianza\n",
      "0       Juan González  4.633333  0.339935\n",
      "3        Ana Martínez  4.200000  1.840290\n",
      "4         Luis García  4.833333  0.498888\n",
      "5     Sofía Hernández  4.300000  2.237558\n",
      "6    Carlos Fernández  4.200000  1.349074\n",
      "9       Marta Jiménez  5.133333  0.939267\n",
      "10        Andrés Ruiz  4.600000  2.031420\n",
      "11  Valentina Ramírez  4.433333  0.731817\n",
      "14     Gabriel Castro  4.500000  1.061446\n",
      "15       Isabel Silva  5.500000  0.993311\n",
      "16     Fernando Ortiz  5.333333  1.586050\n",
      "18    Ricardo Morales  4.200000  1.768238\n",
      "19       Lucía Guzmán  4.033333  1.880307\n",
      "20   Santiago Herrera  5.966667  0.471405\n",
      "21   Carolina Morales  4.500000  1.840290\n",
      "25   Isabella Cordero  4.200000  1.657307\n",
      "26         Hugo Rivas  5.266667  0.903081\n",
      "32     David Figueroa  4.300000  1.435270\n",
      "34       Eduardo Soto  5.133333  1.883849\n",
      "35      Vanessa Rojas  5.366667  1.065624\n",
      "37      Carolina León  4.200000  1.416569\n",
      "38     Manuel Fuentes  5.500000  1.267544\n",
      "39     Renata Morales  5.566667  1.184155\n",
      "43     Romina Sánchez  5.433333  1.062492\n",
      "44    Mauricio Rivera  4.300000  0.883176\n",
      "48      Simón Salazar  4.533333  1.225652\n",
      "52        Raúl Cortés  4.933333  0.997775\n",
      "54         Mario Ríos  5.133333  0.899383\n",
      "56       Sergio Bravo  6.000000  0.588784\n",
      "57     Macarena Rojas  4.333333  1.114550\n",
      "59    María José Moya  4.133333  2.000555\n",
      "60    Cristián Vargas  4.366667  0.967241\n",
      "64        Javier Soto  4.900000  2.083267\n",
      "65   Catalina Cordero  5.200000  1.061446\n",
      "66       Álvaro Silva  4.266667  1.541284\n",
      "68        Tomás Pinto  5.800000  1.157584\n",
      "71     Agustina Lagos  5.233333  1.515109\n",
      "73     Isidora Guzmán  4.833333  2.023748\n",
      " \n",
      "Estudiantes no graduados\n",
      "            Estudiante  Promedio  Varianza\n",
      "1      María Rodríguez  3.900000  0.374166\n",
      "2          Pedro López  3.133333  1.685889\n",
      "7          Laura Gómez  3.200000  1.283225\n",
      "8         Diego Torres  1.733333  0.464280\n",
      "12          José Pérez  3.233333  1.357285\n",
      "13        Elena Vargas  3.133333  1.319933\n",
      "17       Carmen Medina  3.366667  2.099735\n",
      "22        Emilio Núñez  3.666667  0.946338\n",
      "23     Beatriz Paredes  3.733333  1.391242\n",
      "24      Andrés Delgado  3.200000  0.432049\n",
      "27    Gabriela Navarro  3.433333  0.205480\n",
      "28   Alejandro Mendoza  3.366667  1.960159\n",
      "29      Natalia Torres  2.233333  0.618241\n",
      "30      Esteban Robles  2.300000  1.202775\n",
      "31       Camila Vargas  3.700000  0.989949\n",
      "33      Valeria Castro  3.833333  1.472715\n",
      "36       Fabián Castro  3.333333  1.746107\n",
      "40     Fernando Zúñiga  3.500000  1.728198\n",
      "41     Carla Contreras  3.233333  2.239544\n",
      "42   Sebastián Navarro  3.133333  0.956847\n",
      "45    Daniela Alvarado  1.866667  0.449691\n",
      "46   Alejandro Ramírez  3.966667  1.569147\n",
      "47      Lorena Herrera  3.666667  1.481741\n",
      "49     Antonia Paredes  3.900000  1.902630\n",
      "50       Pablo Delgado  3.200000  0.571548\n",
      "51   Francisca Montoya  2.566667  1.027402\n",
      "53    Javiera Orellana  3.833333  1.463633\n",
      "55      Consuelo Vidal  3.700000  1.151810\n",
      "58     Ignacio Miranda  2.966667  1.405545\n",
      "61       Josefina Peña  3.400000  0.962635\n",
      "62      Marco Olivares  3.266667  0.758654\n",
      "63    Antonella Osorio  3.333333  0.262467\n",
      "67   Isidora Contreras  2.666667  1.388844\n",
      "69     Solange Escobar  3.800000  1.687207\n",
      "70   Matías Valenzuela  2.233333  0.903081\n",
      "72        Felipe Reyes  2.866667  1.732692\n",
      "74      Gonzalo Campos  3.766667  0.942809\n",
      "75  Valentina Mardones  3.300000  1.219289\n",
      "76      Benjamín Araya  3.933333  1.329996\n",
      "77    Ignacia Orellana  2.666667  1.065624\n",
      "78    Cristóbal Vargas  1.833333  0.188562\n",
      "79  Fernanda Gutiérrez  2.800000  0.993311\n"
     ]
    }
   ],
   "source": [
    "Graduados = df[df[\"Promedio\"] > 4]\n",
    "No_Graduados = df[df[\"Promedio\"] < 4]\n",
    "\n",
    "print(\"Estudiantes graduados\")\n",
    "print(Graduados)\n",
    "print(\" \")\n",
    "print(\"Estudiantes no graduados\")\n",
    "print(No_Graduados)"
   ]
  },
  {
   "cell_type": "markdown",
   "metadata": {},
   "source": [
    "También podemos organizar las notas de mayor a menor"
   ]
  },
  {
   "cell_type": "code",
   "execution_count": 31,
   "metadata": {},
   "outputs": [
    {
     "name": "stdout",
     "output_type": "stream",
     "text": [
      "           Estudiante  Promedio  Varianza\n",
      "56       Sergio Bravo  6.000000  0.588784\n",
      "20   Santiago Herrera  5.966667  0.471405\n",
      "68        Tomás Pinto  5.800000  1.157584\n",
      "39     Renata Morales  5.566667  1.184155\n",
      "38     Manuel Fuentes  5.500000  1.267544\n",
      "..                ...       ...       ...\n",
      "70  Matías Valenzuela  2.233333  0.903081\n",
      "29     Natalia Torres  2.233333  0.618241\n",
      "45   Daniela Alvarado  1.866667  0.449691\n",
      "78   Cristóbal Vargas  1.833333  0.188562\n",
      "8        Diego Torres  1.733333  0.464280\n",
      "\n",
      "[80 rows x 3 columns]\n"
     ]
    }
   ],
   "source": [
    "df_ordenado = df.sort_values(by=\"Promedio\", ascending=False)\n",
    "print(df_ordenado)"
   ]
  },
  {
   "cell_type": "code",
   "execution_count": 32,
   "metadata": {},
   "outputs": [
    {
     "name": "stdout",
     "output_type": "stream",
     "text": [
      "            Estudiante  Promedio  Desviacion\n",
      "0        Juan González  4.586667    2.083496\n",
      "1      María Rodríguez  3.356667    1.391075\n",
      "2          Pedro López  4.070000    1.144581\n",
      "3         Ana Martínez  4.863333    2.546113\n",
      "4          Luis García  4.376667    1.048947\n",
      "..                 ...       ...         ...\n",
      "75  Valentina Mardones  2.996667    1.001510\n",
      "76      Benjamín Araya  5.306667    1.216726\n",
      "77    Ignacia Orellana  4.466667    0.601849\n",
      "78    Cristóbal Vargas  3.140000    2.260192\n",
      "79  Fernanda Gutiérrez  2.570000    1.612844\n",
      "\n",
      "[80 rows x 3 columns]\n",
      "Estudiantes graduados\n",
      "           Estudiante  Promedio  Desviacion\n",
      "0       Juan González  4.586667    2.083496\n",
      "2         Pedro López  4.070000    1.144581\n",
      "3        Ana Martínez  4.863333    2.546113\n",
      "4         Luis García  4.376667    1.048947\n",
      "5     Sofía Hernández  5.166667    0.993054\n",
      "6    Carlos Fernández  5.683333    0.748168\n",
      "8        Diego Torres  4.040000    0.612536\n",
      "10        Andrés Ruiz  4.450000    2.045108\n",
      "13       Elena Vargas  5.360000    1.885435\n",
      "14     Gabriel Castro  4.813333    1.006324\n",
      "16     Fernando Ortiz  4.013333    0.324996\n",
      "18    Ricardo Morales  4.073333    1.681672\n",
      "21   Carolina Morales  5.513333    0.809211\n",
      "22       Emilio Núñez  4.306667    1.943062\n",
      "27   Gabriela Navarro  6.156667    0.707782\n",
      "28  Alejandro Mendoza  4.510000    1.850694\n",
      "29     Natalia Torres  4.473333    1.949877\n",
      "30     Esteban Robles  4.006667    2.150199\n",
      "31      Camila Vargas  5.293333    1.586050\n",
      "33     Valeria Castro  5.060000    0.732302\n",
      "34       Eduardo Soto  4.863333    2.576384\n",
      "35      Vanessa Rojas  4.423333    1.479309\n",
      "36      Fabián Castro  4.230000    1.374142\n",
      "37      Carolina León  5.086667    0.890181\n",
      "39     Renata Morales  4.056667    1.790518\n",
      "40    Fernando Zúñiga  5.096667    0.464495\n",
      "42  Sebastián Navarro  5.063333    1.346609\n",
      "43     Romina Sánchez  4.223333    1.939937\n",
      "44    Mauricio Rivera  4.953333    1.161101\n",
      "45   Daniela Alvarado  4.766667    0.259786\n",
      "47     Lorena Herrera  4.450000    1.958690\n",
      "50      Pablo Delgado  4.980000    0.232809\n",
      "52        Raúl Cortés  6.560000    0.081650\n",
      "54         Mario Ríos  5.123333    0.442895\n",
      "58    Ignacio Miranda  4.520000    0.739053\n",
      "61      Josefina Peña  4.280000    1.428029\n",
      "62     Marco Olivares  4.370000    1.752617\n",
      "63   Antonella Osorio  5.460000    1.053977\n",
      "69    Solange Escobar  4.013333    0.489989\n",
      "71     Agustina Lagos  4.370000    1.767050\n",
      "72       Felipe Reyes  4.943333    0.878420\n",
      "74     Gonzalo Campos  5.216667    1.480908\n",
      "76     Benjamín Araya  5.306667    1.216726\n",
      "77   Ignacia Orellana  4.466667    0.601849\n",
      " \n",
      "Estudiantes no graduados\n",
      "            Estudiante  Promedio  Desviacion\n",
      "1      María Rodríguez  3.356667    1.391075\n",
      "7          Laura Gómez  3.030000    1.735819\n",
      "9        Marta Jiménez  2.953333    1.120754\n",
      "11   Valentina Ramírez  3.460000    2.373015\n",
      "12          José Pérez  3.253333    1.057177\n",
      "15        Isabel Silva  3.780000    1.867904\n",
      "17       Carmen Medina  3.513333    1.215246\n",
      "19        Lucía Guzmán  3.463333    2.400463\n",
      "20    Santiago Herrera  3.676667    1.637973\n",
      "23     Beatriz Paredes  3.526667    2.437175\n",
      "24      Andrés Delgado  1.446667    0.204993\n",
      "25    Isabella Cordero  3.510000    1.091146\n",
      "26          Hugo Rivas  3.440000    1.393006\n",
      "32      David Figueroa  2.303333    0.655252\n",
      "38      Manuel Fuentes  3.873333    0.775987\n",
      "41     Carla Contreras  2.863333    1.163796\n",
      "46   Alejandro Ramírez  2.376667    0.773491\n",
      "48       Simón Salazar  3.490000    1.205570\n",
      "49     Antonia Paredes  3.320000    1.391570\n",
      "51   Francisca Montoya  2.446667    1.713560\n",
      "53    Javiera Orellana  3.270000    2.082034\n",
      "55      Consuelo Vidal  2.733333    1.150691\n",
      "56        Sergio Bravo  3.403333    1.400008\n",
      "57      Macarena Rojas  2.823333    0.450654\n",
      "59     María José Moya  2.806667    0.643238\n",
      "60     Cristián Vargas  3.316667    0.887706\n",
      "64         Javier Soto  2.703333    0.950590\n",
      "65    Catalina Cordero  2.120000    0.651818\n",
      "66        Álvaro Silva  3.800000    1.540541\n",
      "67   Isidora Contreras  3.643333    0.500755\n",
      "68         Tomás Pinto  2.503333    0.272070\n",
      "70   Matías Valenzuela  2.663333    0.432075\n",
      "73      Isidora Guzmán  3.243333    1.271281\n",
      "75  Valentina Mardones  2.996667    1.001510\n",
      "78    Cristóbal Vargas  3.140000    2.260192\n",
      "79  Fernanda Gutiérrez  2.570000    1.612844\n",
      "           Estudiante  Promedio  Desviacion\n",
      "52        Raúl Cortés  6.560000    0.081650\n",
      "27   Gabriela Navarro  6.156667    0.707782\n",
      "6    Carlos Fernández  5.683333    0.748168\n",
      "21   Carolina Morales  5.513333    0.809211\n",
      "63   Antonella Osorio  5.460000    1.053977\n",
      "..                ...       ...         ...\n",
      "51  Francisca Montoya  2.446667    1.713560\n",
      "46  Alejandro Ramírez  2.376667    0.773491\n",
      "32     David Figueroa  2.303333    0.655252\n",
      "65   Catalina Cordero  2.120000    0.651818\n",
      "24     Andrés Delgado  1.446667    0.204993\n",
      "\n",
      "[80 rows x 3 columns]\n"
     ]
    }
   ],
   "source": [
    "import random\n",
    "import math\n",
    "import pandas as pd\n",
    "\n",
    "notas = [[round(random.uniform(1, 7),2) for _ in range(3)] for _ in range(80)]\n",
    "\n",
    "lista_estudiantes = [\"Juan González\",\"María Rodríguez\",\"Pedro López\",\"Ana Martínez\",\"Luis García\",\"Sofía Hernández\",\"Carlos Fernández\",\"Laura Gómez\",\"Diego Torres\",\"Marta Jiménez\",\"Andrés Ruiz\",\"Valentina Ramírez\",\"José Pérez\",\"Elena Vargas\",\"Gabriel Castro\",\"Isabel Silva\",\"Fernando Ortiz\",\"Carmen Medina\",\"Ricardo Morales\",\"Lucía Guzmán\",\"Santiago Herrera\",\"Carolina Morales\",\"Emilio Núñez\",\"Beatriz Paredes\",\"Andrés Delgado\",\"Isabella Cordero\",\"Hugo Rivas\",\"Gabriela Navarro\",\"Alejandro Mendoza\",\"Natalia Torres\",\"Esteban Robles\",\"Camila Vargas\",\"David Figueroa\",\"Valeria Castro\",\"Eduardo Soto\",\"Vanessa Rojas\",\"Fabián Castro\",\"Carolina León\",\"Manuel Fuentes\",\"Renata Morales\",\"Fernando Zúñiga\",\"Carla Contreras\",\"Sebastián Navarro\",\"Romina Sánchez\",\"Mauricio Rivera\",\"Daniela Alvarado\",\"Alejandro Ramírez\",\"Lorena Herrera\",\"Simón Salazar\",\"Antonia Paredes\",\"Pablo Delgado\",\"Francisca Montoya\",\"Raúl Cortés\",\"Javiera Orellana\",\"Mario Ríos\",\"Consuelo Vidal\",\"Sergio Bravo\",\"Macarena Rojas\",\"Ignacio Miranda\",\"María José Moya\",\"Cristián Vargas\",\"Josefina Peña\",\"Marco Olivares\",\"Antonella Osorio\",\"Javier Soto\",\"Catalina Cordero\",\"Álvaro Silva\",\"Isidora Contreras\",\"Tomás Pinto\",\"Solange Escobar\",\"Matías Valenzuela\",\"Agustina Lagos\",\"Felipe Reyes\",\"Isidora Guzmán\",\"Gonzalo Campos\",\"Valentina Mardones\",\"Benjamín Araya\",\"Ignacia Orellana\",\"Cristóbal Vargas\",\"Fernanda Gutiérrez\"]\n",
    "\n",
    "resultados = []\n",
    "\n",
    "dicc_notas = dict(zip(lista_estudiantes, notas))\n",
    "\n",
    "def cal_prom(notas): \n",
    "    suma = sum(notas)\n",
    "    return suma / len(notas)\n",
    "\n",
    "def cal_var(notas):\n",
    "    prom = cal_prom(notas)\n",
    "    var = sum([(x - prom) ** 2 for x in notas]) / len(notas)\n",
    "    return math.sqrt(var)\n",
    "\n",
    "for estudiante, notas in dicc_notas.items():\n",
    "    promedio = cal_prom(notas)\n",
    "    varianza = cal_var(notas)\n",
    "    resultados.append([estudiante, promedio, varianza])\n",
    "    \n",
    "df = pd.DataFrame(resultados, columns=[\"Estudiante\", \"Promedio\", \"Desviacion\"])\n",
    "print(df)\n",
    "\n",
    "df.to_csv(\"notas.csv\")\n",
    "\n",
    "Graduados = df[df[\"Promedio\"] > 4]\n",
    "No_Graduados = df[df[\"Promedio\"] < 4]\n",
    "\n",
    "print(\"Estudiantes graduados\")\n",
    "print(Graduados)\n",
    "print(\" \")\n",
    "print(\"Estudiantes no graduados\")\n",
    "print(No_Graduados)\n",
    "\n",
    "df_ordenado = df.sort_values(by=\"Promedio\", ascending=False)\n",
    "print(df_ordenado)"
   ]
  }
 ],
 "metadata": {
  "kernelspec": {
   "display_name": "base",
   "language": "python",
   "name": "python3"
  },
  "language_info": {
   "codemirror_mode": {
    "name": "ipython",
    "version": 3
   },
   "file_extension": ".py",
   "mimetype": "text/x-python",
   "name": "python",
   "nbconvert_exporter": "python",
   "pygments_lexer": "ipython3",
   "version": "3.10.9"
  },
  "orig_nbformat": 4
 },
 "nbformat": 4,
 "nbformat_minor": 2
}
